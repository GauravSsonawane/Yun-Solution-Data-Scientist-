{
  "nbformat": 4,
  "nbformat_minor": 0,
  "metadata": {
    "colab": {
      "provenance": []
    },
    "kernelspec": {
      "name": "python3",
      "display_name": "Python 3"
    },
    "language_info": {
      "name": "python"
    }
  },
  "cells": [
    {
      "cell_type": "code",
      "source": [
        "import numpy as np\n",
        "import sys\n",
        "import os\n",
        "import dlib\n",
        "import glob\n",
        "\n",
        "# Check if the correct arguments are passed\n",
        "if len(sys.argv) != 4:\n",
        "    print(\n",
        "        \"Oops! Looks like you've missed some inputs.\\n\"\n",
        "        \"Here’s how to use this program:\\n\"\n",
        "        \"   python face_recognition.py <shape_predictor.dat> <face_recognition_model.dat> <images_folder>\\n\\n\"\n",
        "        \"Before running, download the required files:\\n\"\n",
        "        \" - Facial shape predictor: http://dlib.net/files/shape_predictor_5_face_landmarks.dat.bz2\\n\"\n",
        "        \" - Face recognition model: http://dlib.net/files/dlib_face_recognition_resnet_model_v1.dat.bz2\\n\"\n",
        "    )\n",
        "    sys.exit()\n",
        "\n",
        "# Paths to the models and folder containing images\n",
        "shape_predictor_path = sys.argv[1]\n",
        "recognition_model_path = sys.argv[2]\n",
        "image_folder_path = sys.argv[3]\n",
        "\n",
        "# Initialize dlib's tools: face detector, shape predictor, and recognition model\n",
        "print(\"Loading models... Please wait!\")\n",
        "face_detector = dlib.get_frontal_face_detector()\n",
        "shape_predictor = dlib.shape_predictor(shape_predictor_path)\n",
        "face_recognition_model = dlib.face_recognition_model_v1(recognition_model_path)\n",
        "print(\"Models loaded successfully!\")\n",
        "\n",
        "# Open a visualization window for face processing\n",
        "visualizer = dlib.image_window()\n",
        "\n",
        "# Process each image in the given folder\n",
        "print(f\"Scanning the folder: {image_folder_path}\")\n",
        "for image_path in glob.glob(os.path.join(image_folder_path, \"*.jpg\")):\n",
        "    print(f\"\\nProcessing image: {image_path}\")\n",
        "    image = dlib.load_rgb_image(image_path)\n",
        "\n",
        "    # Display the image in the visualization window\n",
        "    visualizer.clear_overlay()\n",
        "    visualizer.set_image(image)\n",
        "\n",
        "    # Detect faces; the second argument (1) upsamples the image for better accuracy\n",
        "    detected_faces = face_detector(image, 1)\n",
        "    print(f\"Found {len(detected_faces)} face(s) in the image.\")\n",
        "\n",
        "    # Handle each detected face\n",
        "    for index, face in enumerate(detected_faces):\n",
        "        print(f\"Analyzing face {index + 1}: [Left: {face.left()}, Top: {face.top()}, Right: {face.right()}, Bottom: {face.bottom()}]\")\n",
        "\n",
        "        # Get landmarks for the face\n",
        "        landmarks = shape_predictor(image, face)\n",
        "\n",
        "        # Display the face and its landmarks on the window\n",
        "        visualizer.clear_overlay()\n",
        "        visualizer.add_overlay(face)\n",
        "        visualizer.add_overlay(landmarks)\n",
        "\n",
        "        # Generate a 128-dimensional descriptor for the face\n",
        "        descriptor = face_recognition_model.compute_face_descriptor(image, landmarks)\n",
        "        print(f\"Descriptor for face {index + 1}: {descriptor}\")\n",
        "\n",
        "        # Optionally, align the face to standardize its position and scale\n",
        "        print(\"Aligning the face for better feature extraction...\")\n",
        "        aligned_face = dlib.get_face_chip(image, landmarks)\n",
        "\n",
        "        # Compute the descriptor for the aligned face\n",
        "        aligned_descriptor = face_recognition_model.compute_face_descriptor(aligned_face)\n",
        "        print(f\"Aligned face descriptor for face {index + 1}: {aligned_descriptor}\")\n",
        "\n",
        "        # Wait for user input before processing the next image\n",
        "        print(\"Press Enter to continue...\")\n",
        "        dlib.hit_enter_to_continue()\n"
      ],
      "metadata": {
        "id": "GYXDuqeu1Niv",
        "outputId": "d299f5bb-0b92-4277-a3d4-5aabd90dacd6",
        "colab": {
          "base_uri": "https://localhost:8080/",
          "height": 263
        }
      },
      "execution_count": 1,
      "outputs": [
        {
          "output_type": "stream",
          "name": "stdout",
          "text": [
            "Oops! Looks like you've missed some inputs.\n",
            "Here’s how to use this program:\n",
            "   python face_recognition.py <shape_predictor.dat> <face_recognition_model.dat> <images_folder>\n",
            "\n",
            "Before running, download the required files:\n",
            " - Facial shape predictor: http://dlib.net/files/shape_predictor_5_face_landmarks.dat.bz2\n",
            " - Face recognition model: http://dlib.net/files/dlib_face_recognition_resnet_model_v1.dat.bz2\n",
            "\n"
          ]
        },
        {
          "output_type": "error",
          "ename": "SystemExit",
          "evalue": "",
          "traceback": [
            "An exception has occurred, use %tb to see the full traceback.\n",
            "\u001b[0;31mSystemExit\u001b[0m\n"
          ]
        },
        {
          "output_type": "stream",
          "name": "stderr",
          "text": [
            "/usr/local/lib/python3.10/dist-packages/IPython/core/interactiveshell.py:3561: UserWarning: To exit: use 'exit', 'quit', or Ctrl-D.\n",
            "  warn(\"To exit: use 'exit', 'quit', or Ctrl-D.\", stacklevel=1)\n"
          ]
        }
      ]
    },
    {
      "cell_type": "code",
      "source": [],
      "metadata": {
        "id": "oa7BHVYR3qmU"
      },
      "execution_count": null,
      "outputs": []
    }
  ]
}