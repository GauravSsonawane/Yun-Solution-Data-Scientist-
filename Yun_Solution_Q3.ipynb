{
  "nbformat": 4,
  "nbformat_minor": 0,
  "metadata": {
    "colab": {
      "provenance": []
    },
    "kernelspec": {
      "name": "python3",
      "display_name": "Python 3"
    },
    "language_info": {
      "name": "python"
    }
  },
  "cells": [
    {
      "cell_type": "code",
      "execution_count": 1,
      "metadata": {
        "colab": {
          "base_uri": "https://localhost:8080/"
        },
        "id": "g6TifeU649FD",
        "outputId": "605b9a4f-9862-4fcb-f88b-4f6440c78b36"
      },
      "outputs": [
        {
          "output_type": "stream",
          "name": "stdout",
          "text": [
            "      x     y  group\n",
            "0  0.15  0.25      2\n",
            "1  0.35  0.45      2\n",
            "2  0.40  0.55      2\n",
            "3  0.90  0.85      5\n",
            "4  1.10  0.95      5\n",
            "5  1.25  1.15      5\n"
          ]
        }
      ],
      "source": [
        "import pandas as pd\n",
        "import numpy as np\n",
        "from scipy.spatial.distance import pdist, squareform\n",
        "\n",
        "# Step 1: Crafting a meaningful dataset (imagine it's collected from a field survey)\n",
        "data = {\n",
        "    'x': [0.15, 0.35, 0.4, 0.9, 1.1, 1.25],\n",
        "    'y': [0.25, 0.45, 0.55, 0.85, 0.95, 1.15]\n",
        "}\n",
        "coordinates = pd.DataFrame(data)\n",
        "\n",
        "# Step 2: Compute pairwise distances\n",
        "distance_matrix = squareform(pdist(coordinates[['x', 'y']], metric='euclidean'))\n",
        "\n",
        "# Step 3: Assign groups using vectorized logic\n",
        "group_labels = (distance_matrix < 0.5).astype(int)\n",
        "group_ids = np.argmax(group_labels.cumsum(axis=0), axis=0)\n",
        "\n",
        "# Assign the group IDs back to the DataFrame\n",
        "coordinates['group'] = group_ids\n",
        "\n",
        "# Output the resulting DataFrame\n",
        "print(coordinates)"
      ]
    },
    {
      "cell_type": "code",
      "source": [],
      "metadata": {
        "id": "qGhmuCTe5J5E"
      },
      "execution_count": null,
      "outputs": []
    }
  ]
}